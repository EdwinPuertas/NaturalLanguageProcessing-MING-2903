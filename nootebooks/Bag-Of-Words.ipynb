{
 "cells": [
  {
   "cell_type": "markdown",
   "id": "719ab87a",
   "metadata": {},
   "source": [
    "# Bag-of-Words Model"
   ]
  },
  {
   "cell_type": "code",
   "execution_count": 1,
   "id": "8c93627a",
   "metadata": {},
   "outputs": [],
   "source": [
    "from sklearn.feature_extraction.text import CountVectorizer\n",
    "from nltk.tokenize import TweetTokenizer\n",
    "import pandas as pd"
   ]
  },
  {
   "cell_type": "code",
   "execution_count": 27,
   "id": "e77c0f9e",
   "metadata": {},
   "outputs": [],
   "source": [
    "corpus = [\"La NEP fue oficialmente decidida en el 10° Congreso del Partido Comunista de la URSS\", \n",
    "          \"Al estado compartía con el Distrito Federal el sistema de lagos de la cuenca del valle de México o de Anahuac los cuales eran los lagos de Zumpango\",\n",
    "          \"De las zonas sometidas venían las fibras de maguey de la más alta calidad\"]"
   ]
  },
  {
   "cell_type": "code",
   "execution_count": 28,
   "id": "9d45b98d",
   "metadata": {},
   "outputs": [
    {
     "name": "stdout",
     "output_type": "stream",
     "text": [
      "['la', 'nep', 'fue', 'oficialmente', 'decidida', 'en', 'el', '10', '°', 'congreso', 'del', 'partido', 'comunista', 'de', 'urss', 'al', 'estado', 'compartía', 'con', 'distrito', 'federal', 'sistema', 'lagos', 'cuenca', 'valle', 'méxico', 'o', 'anahuac', 'los', 'cuales', 'eran', 'zumpango', 'las', 'zonas', 'sometidas', 'venían', 'fibras', 'maguey', 'más', 'alta', 'calidad']\n"
     ]
    }
   ],
   "source": [
    "tknzr = TweetTokenizer()\n",
    "bag = []\n",
    "for row in corpus:\n",
    "    word_list = tknzr.tokenize(row)\n",
    "    for word in word_list:\n",
    "        word = str(word).lower()\n",
    "        if word not in bag:\n",
    "            bag.append(word)\n",
    "print(bag)"
   ]
  },
  {
   "cell_type": "code",
   "execution_count": 40,
   "id": "37506283",
   "metadata": {},
   "outputs": [
    {
     "data": {
      "text/plain": [
       "41"
      ]
     },
     "execution_count": 40,
     "metadata": {},
     "output_type": "execute_result"
    }
   ],
   "source": [
    "len(bag)"
   ]
  },
  {
   "cell_type": "code",
   "execution_count": 46,
   "id": "0490e310",
   "metadata": {},
   "outputs": [],
   "source": [
    "bow = CountVectorizer(ngram_range=(1, 3))"
   ]
  },
  {
   "cell_type": "code",
   "execution_count": 47,
   "id": "1711ddda",
   "metadata": {},
   "outputs": [],
   "source": [
    "features = bow.fit_transform(corpus)"
   ]
  },
  {
   "cell_type": "code",
   "execution_count": 48,
   "id": "7c647efa",
   "metadata": {},
   "outputs": [
    {
     "data": {
      "text/plain": [
       "array([[1, 1, 1, 0, 0, 0, 0, 0, 0, 0, 0, 0, 0, 0, 0, 1, 1, 1, 0, 0, 0, 1,\n",
       "        1, 1, 0, 0, 0, 0, 0, 0, 1, 0, 0, 1, 0, 0, 1, 0, 0, 0, 0, 0, 0, 0,\n",
       "        0, 0, 1, 1, 1, 1, 1, 1, 0, 0, 0, 0, 0, 1, 1, 1, 0, 0, 0, 0, 1, 1,\n",
       "        1, 0, 0, 0, 0, 0, 0, 0, 0, 0, 0, 0, 0, 1, 1, 1, 2, 0, 0, 0, 0, 1,\n",
       "        1, 1, 0, 0, 0, 0, 0, 0, 0, 0, 0, 0, 0, 0, 0, 0, 0, 0, 0, 0, 0, 0,\n",
       "        0, 0, 0, 1, 1, 1, 1, 1, 1, 1, 1, 1, 0, 0, 0, 0, 0, 0, 1, 0, 0, 0,\n",
       "        0, 0, 0, 0, 0, 0, 0],\n",
       "       [0, 0, 0, 1, 1, 1, 0, 0, 1, 1, 1, 0, 1, 1, 1, 0, 0, 0, 1, 1, 1, 0,\n",
       "        0, 0, 1, 1, 1, 1, 1, 1, 5, 1, 1, 1, 1, 0, 0, 1, 1, 0, 0, 0, 0, 1,\n",
       "        1, 1, 0, 0, 0, 1, 0, 0, 1, 1, 1, 1, 1, 2, 0, 0, 1, 1, 1, 1, 0, 0,\n",
       "        0, 1, 1, 1, 1, 1, 1, 1, 1, 1, 0, 0, 0, 0, 0, 0, 1, 1, 1, 0, 0, 0,\n",
       "        0, 0, 2, 2, 1, 1, 0, 0, 0, 0, 0, 2, 1, 1, 1, 1, 0, 0, 0, 0, 0, 0,\n",
       "        1, 1, 1, 0, 0, 0, 0, 0, 0, 0, 0, 0, 1, 1, 1, 0, 0, 0, 0, 1, 1, 1,\n",
       "        0, 0, 0, 0, 0, 0, 1],\n",
       "       [0, 0, 0, 0, 0, 0, 1, 1, 0, 0, 0, 1, 0, 0, 0, 0, 0, 0, 0, 0, 0, 0,\n",
       "        0, 0, 0, 0, 0, 0, 0, 0, 3, 0, 0, 1, 0, 1, 0, 0, 0, 1, 1, 1, 1, 0,\n",
       "        0, 0, 0, 0, 0, 0, 0, 0, 0, 0, 0, 0, 0, 0, 0, 0, 0, 0, 0, 0, 0, 0,\n",
       "        0, 0, 0, 0, 0, 0, 0, 0, 0, 0, 1, 1, 1, 0, 0, 0, 1, 0, 0, 1, 1, 0,\n",
       "        0, 0, 0, 0, 0, 0, 2, 1, 1, 1, 1, 0, 0, 0, 0, 0, 1, 1, 1, 1, 1, 1,\n",
       "        0, 0, 0, 0, 0, 0, 0, 0, 0, 0, 0, 0, 0, 0, 0, 1, 1, 1, 0, 0, 0, 0,\n",
       "        1, 1, 1, 1, 1, 1, 0]], dtype=int64)"
      ]
     },
     "execution_count": 48,
     "metadata": {},
     "output_type": "execute_result"
    }
   ],
   "source": [
    "features.toarray()"
   ]
  },
  {
   "cell_type": "code",
   "execution_count": 49,
   "id": "b22f81ed",
   "metadata": {},
   "outputs": [],
   "source": [
    "df = pd.DataFrame(features.toarray(),\n",
    "                  index=['stament '+str(i) for i in range(1, 1+len(corpus))],\n",
    "                  columns=bow.get_feature_names())"
   ]
  },
  {
   "cell_type": "code",
   "execution_count": 50,
   "id": "3fac4b5c",
   "metadata": {},
   "outputs": [
    {
     "data": {
      "text/html": [
       "<div>\n",
       "<style scoped>\n",
       "    .dataframe tbody tr th:only-of-type {\n",
       "        vertical-align: middle;\n",
       "    }\n",
       "\n",
       "    .dataframe tbody tr th {\n",
       "        vertical-align: top;\n",
       "    }\n",
       "\n",
       "    .dataframe thead th {\n",
       "        text-align: right;\n",
       "    }\n",
       "</style>\n",
       "<table border=\"1\" class=\"dataframe\">\n",
       "  <thead>\n",
       "    <tr style=\"text-align: right;\">\n",
       "      <th></th>\n",
       "      <th>10</th>\n",
       "      <th>10 congreso</th>\n",
       "      <th>10 congreso del</th>\n",
       "      <th>al</th>\n",
       "      <th>al estado</th>\n",
       "      <th>al estado compartía</th>\n",
       "      <th>alta</th>\n",
       "      <th>alta calidad</th>\n",
       "      <th>anahuac</th>\n",
       "      <th>anahuac los</th>\n",
       "      <th>...</th>\n",
       "      <th>valle</th>\n",
       "      <th>valle de</th>\n",
       "      <th>valle de méxico</th>\n",
       "      <th>venían</th>\n",
       "      <th>venían las</th>\n",
       "      <th>venían las fibras</th>\n",
       "      <th>zonas</th>\n",
       "      <th>zonas sometidas</th>\n",
       "      <th>zonas sometidas venían</th>\n",
       "      <th>zumpango</th>\n",
       "    </tr>\n",
       "  </thead>\n",
       "  <tbody>\n",
       "    <tr>\n",
       "      <th>stament 1</th>\n",
       "      <td>1</td>\n",
       "      <td>1</td>\n",
       "      <td>1</td>\n",
       "      <td>0</td>\n",
       "      <td>0</td>\n",
       "      <td>0</td>\n",
       "      <td>0</td>\n",
       "      <td>0</td>\n",
       "      <td>0</td>\n",
       "      <td>0</td>\n",
       "      <td>...</td>\n",
       "      <td>0</td>\n",
       "      <td>0</td>\n",
       "      <td>0</td>\n",
       "      <td>0</td>\n",
       "      <td>0</td>\n",
       "      <td>0</td>\n",
       "      <td>0</td>\n",
       "      <td>0</td>\n",
       "      <td>0</td>\n",
       "      <td>0</td>\n",
       "    </tr>\n",
       "    <tr>\n",
       "      <th>stament 2</th>\n",
       "      <td>0</td>\n",
       "      <td>0</td>\n",
       "      <td>0</td>\n",
       "      <td>1</td>\n",
       "      <td>1</td>\n",
       "      <td>1</td>\n",
       "      <td>0</td>\n",
       "      <td>0</td>\n",
       "      <td>1</td>\n",
       "      <td>1</td>\n",
       "      <td>...</td>\n",
       "      <td>1</td>\n",
       "      <td>1</td>\n",
       "      <td>1</td>\n",
       "      <td>0</td>\n",
       "      <td>0</td>\n",
       "      <td>0</td>\n",
       "      <td>0</td>\n",
       "      <td>0</td>\n",
       "      <td>0</td>\n",
       "      <td>1</td>\n",
       "    </tr>\n",
       "    <tr>\n",
       "      <th>stament 3</th>\n",
       "      <td>0</td>\n",
       "      <td>0</td>\n",
       "      <td>0</td>\n",
       "      <td>0</td>\n",
       "      <td>0</td>\n",
       "      <td>0</td>\n",
       "      <td>1</td>\n",
       "      <td>1</td>\n",
       "      <td>0</td>\n",
       "      <td>0</td>\n",
       "      <td>...</td>\n",
       "      <td>0</td>\n",
       "      <td>0</td>\n",
       "      <td>0</td>\n",
       "      <td>1</td>\n",
       "      <td>1</td>\n",
       "      <td>1</td>\n",
       "      <td>1</td>\n",
       "      <td>1</td>\n",
       "      <td>1</td>\n",
       "      <td>0</td>\n",
       "    </tr>\n",
       "  </tbody>\n",
       "</table>\n",
       "<p>3 rows × 139 columns</p>\n",
       "</div>"
      ],
      "text/plain": [
       "           10  10 congreso  10 congreso del  al  al estado  \\\n",
       "stament 1   1            1                1   0          0   \n",
       "stament 2   0            0                0   1          1   \n",
       "stament 3   0            0                0   0          0   \n",
       "\n",
       "           al estado compartía  alta  alta calidad  anahuac  anahuac los  ...  \\\n",
       "stament 1                    0     0             0        0            0  ...   \n",
       "stament 2                    1     0             0        1            1  ...   \n",
       "stament 3                    0     1             1        0            0  ...   \n",
       "\n",
       "           valle  valle de  valle de méxico  venían  venían las  \\\n",
       "stament 1      0         0                0       0           0   \n",
       "stament 2      1         1                1       0           0   \n",
       "stament 3      0         0                0       1           1   \n",
       "\n",
       "           venían las fibras  zonas  zonas sometidas  zonas sometidas venían  \\\n",
       "stament 1                  0      0                0                       0   \n",
       "stament 2                  0      0                0                       0   \n",
       "stament 3                  1      1                1                       1   \n",
       "\n",
       "           zumpango  \n",
       "stament 1         0  \n",
       "stament 2         1  \n",
       "stament 3         0  \n",
       "\n",
       "[3 rows x 139 columns]"
      ]
     },
     "execution_count": 50,
     "metadata": {},
     "output_type": "execute_result"
    }
   ],
   "source": [
    "df"
   ]
  },
  {
   "cell_type": "code",
   "execution_count": null,
   "id": "2563708c",
   "metadata": {},
   "outputs": [],
   "source": []
  }
 ],
 "metadata": {
  "kernelspec": {
   "display_name": "Python 3",
   "language": "python",
   "name": "python3"
  },
  "language_info": {
   "codemirror_mode": {
    "name": "ipython",
    "version": 3
   },
   "file_extension": ".py",
   "mimetype": "text/x-python",
   "name": "python",
   "nbconvert_exporter": "python",
   "pygments_lexer": "ipython3",
   "version": "3.8.8"
  }
 },
 "nbformat": 4,
 "nbformat_minor": 5
}
